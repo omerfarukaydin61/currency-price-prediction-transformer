{
 "cells": [
  {
   "cell_type": "markdown",
   "id": "dfb38699",
   "metadata": {},
   "source": [
    "# Currency Price Prediction Transformer - Quick Start on Colab\n",
    "\n",
    "This notebook will help you clone the repository, install dependencies, and run the pipeline for financial time series prediction."
   ]
  },
  {
   "cell_type": "code",
   "execution_count": null,
   "id": "094813c0",
   "metadata": {},
   "outputs": [],
   "source": [
    "# Clone the repository\n",
    "!git clone https://github.com/omerfarukaydin61/currency-price-prediction-transformer.git\n",
    "\n",
    "# Change directory\n",
    "%cd currency-price-prediction-transformer"
   ]
  },
  {
   "cell_type": "code",
   "execution_count": null,
   "id": "88f9e03d",
   "metadata": {},
   "outputs": [],
   "source": [
    "# Install dependencies\n",
    "!pip install -r requirements.txt"
   ]
  },
  {
   "cell_type": "markdown",
   "id": "6fad4a5b",
   "metadata": {},
   "source": [
    "## Upload your CSV files (or use API)\n",
    "You can upload your own CSV files to the `content/` folder below, or let the script fetch data from the API."
   ]
  },
  {
   "cell_type": "code",
   "execution_count": null,
   "id": "5903e2c0",
   "metadata": {},
   "outputs": [],
   "source": [
    "# Create content directory if not exists\n",
    "import os\n",
    "os.makedirs('content', exist_ok=True)\n",
    "\n",
    "# Upload files (Colab UI)\n",
    "from google.colab import files\n",
    "uploaded = files.upload()\n",
    "for fn in uploaded.keys():\n",
    "    os.rename(fn, f'content/{fn}')"
   ]
  },
  {
   "cell_type": "markdown",
   "id": "74591a88",
   "metadata": {},
   "source": [
    "## Run the pipeline\n",
    "This will process all CSV files in `content/` and save results to `predictions/`."
   ]
  },
  {
   "cell_type": "code",
   "execution_count": null,
   "id": "f8a18b2c",
   "metadata": {},
   "outputs": [],
   "source": [
    "!python main.py"
   ]
  },
  {
   "cell_type": "markdown",
   "id": "4a675bea",
   "metadata": {},
   "source": [
    "## View results\n",
    "All plots and prediction JSON files will be saved in the `predictions/` directory, organized by CSV file.\n",
    "You can download results using the Colab file browser or with the code below:"
   ]
  },
  {
   "cell_type": "code",
   "execution_count": null,
   "id": "f2b6d43b",
   "metadata": {},
   "outputs": [],
   "source": [
    "# Download the predictions directory as a zip file\n",
    "import shutil\n",
    "shutil.make_archive('predictions', 'zip', 'predictions')\n",
    "from google.colab import files\n",
    "files.download('predictions.zip')"
   ]
  }
 ],
 "metadata": {
  "language_info": {
   "name": "python"
  }
 },
 "nbformat": 4,
 "nbformat_minor": 5
}
